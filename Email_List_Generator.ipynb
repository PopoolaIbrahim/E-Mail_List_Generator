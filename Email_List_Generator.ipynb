{
  "nbformat": 4,
  "nbformat_minor": 0,
  "metadata": {
    "colab": {
      "provenance": [],
      "authorship_tag": "ABX9TyOrNn+7V8W9KczuB+zhQq1F",
      "include_colab_link": true
    },
    "kernelspec": {
      "name": "python3",
      "display_name": "Python 3"
    },
    "language_info": {
      "name": "python"
    }
  },
  "cells": [
    {
      "cell_type": "markdown",
      "metadata": {
        "id": "view-in-github",
        "colab_type": "text"
      },
      "source": [
        "<a href=\"https://colab.research.google.com/github/PopoolaIbrahim/E-Mail_List_Generator/blob/main/Email_List_Generator.ipynb\" target=\"_parent\"><img src=\"https://colab.research.google.com/assets/colab-badge.svg\" alt=\"Open In Colab\"/></a>"
      ]
    },
    {
      "cell_type": "code",
      "source": [
        "!pip install google\n",
        "!pip install fake_useragent\n",
        "\n"
      ],
      "metadata": {
        "colab": {
          "base_uri": "https://localhost:8080/"
        },
        "id": "030Y2AC-xTDH",
        "outputId": "3e2c824f-aac0-4bfe-b251-54370cb9ba6f"
      },
      "execution_count": null,
      "outputs": [
        {
          "output_type": "stream",
          "name": "stdout",
          "text": [
            "Looking in indexes: https://pypi.org/simple, https://us-python.pkg.dev/colab-wheels/public/simple/\n",
            "Requirement already satisfied: google in /usr/local/lib/python3.10/dist-packages (2.0.3)\n",
            "Requirement already satisfied: beautifulsoup4 in /usr/local/lib/python3.10/dist-packages (from google) (4.11.2)\n",
            "Requirement already satisfied: soupsieve>1.2 in /usr/local/lib/python3.10/dist-packages (from beautifulsoup4->google) (2.4.1)\n",
            "Looking in indexes: https://pypi.org/simple, https://us-python.pkg.dev/colab-wheels/public/simple/\n",
            "Collecting fake_useragent\n",
            "  Downloading fake_useragent-1.1.3-py3-none-any.whl (50 kB)\n",
            "\u001b[2K     \u001b[90m━━━━━━━━━━━━━━━━━━━━━━━━━━━━━━━━━━━━━━━━\u001b[0m \u001b[32m50.5/50.5 kB\u001b[0m \u001b[31m2.4 MB/s\u001b[0m eta \u001b[36m0:00:00\u001b[0m\n",
            "\u001b[?25hInstalling collected packages: fake_useragent\n",
            "Successfully installed fake_useragent-1.1.3\n"
          ]
        }
      ]
    },
    {
      "cell_type": "code",
      "source": [
        "import googlesearch\n",
        "print(dir(googlesearch))"
      ],
      "metadata": {
        "colab": {
          "base_uri": "https://localhost:8080/"
        },
        "id": "K1QUOvC825fP",
        "outputId": "467f3794-4033-4c5f-bf3b-522a211b1f92"
      },
      "execution_count": null,
      "outputs": [
        {
          "output_type": "stream",
          "name": "stdout",
          "text": [
            "['BeautifulSoup', 'LWPCookieJar', 'Request', 'USER_AGENT', '__all__', '__builtins__', '__cached__', '__doc__', '__file__', '__loader__', '__name__', '__package__', '__path__', '__spec__', 'cookie_jar', 'filter_result', 'get_page', 'get_random_user_agent', 'get_tbs', 'gzip', 'home_folder', 'install_folder', 'is_bs4', 'lucky', 'os', 'parse_qs', 'quote_plus', 'random', 'search', 'search_apps', 'search_books', 'search_images', 'search_news', 'search_shop', 'search_videos', 'sys', 'time', 'url_home', 'url_next_page', 'url_next_page_num', 'url_parameters', 'url_search', 'url_search_num', 'urlopen', 'urlparse', 'user_agents_file', 'user_agents_list']\n"
          ]
        }
      ]
    },
    {
      "cell_type": "code",
      "source": [
        "from googlesearch import search\n",
        "import re\n",
        "import requests\n",
        "from fake_useragent import UserAgent\n",
        "\n",
        "\n",
        "#query = input('''Enetr your query: ''')\n",
        "query = ''' fitness \"@gmail.com\" OR \"@yahoo.com\" United States'''\n",
        "search_result = search(query, tld='com',num=10, stop=10, pause=2)\n",
        "# Extracting E-Mail\n",
        "def extract_emails(text):\n",
        "    email_regex = r'\\b[A-Za-z0-9._%+-]+@[A-Za-z0-9.-]+\\.[A-Z|a-z]{2,}\\b'\n",
        "    return re.findall(email_regex, text)\n",
        "email_list = []\n",
        "for url in search_result:\n",
        "  #print(url)\n",
        "  # Create a UserAgent object\n",
        "  user_agent = UserAgent()\n",
        "  # Generate a fake user agent string\n",
        "  fake_ua = user_agent.random\n",
        "  # Set headers with the fake user agent\n",
        "  headers = {'User-Agent': fake_ua}\n",
        "  response = requests.get(url, headers=headers)\n",
        "  url_email = extract_emails(response.text)\n",
        "  email_list.append(url_email)\n",
        "\n",
        "#print(email_list)\n",
        "list_of_lists = email_list\n",
        "\n",
        "# Using nested list comprehension\n",
        "single_list = [item for sublist in list_of_lists for item in sublist]\n",
        "#print(len(single_list))\n",
        "#print(single_list)\n",
        "\n",
        "clean_list = []\n",
        "added_emails = set()\n",
        "for item in single_list:\n",
        "    if \"@gmail\" in item or \"@yahoo\" in item:\n",
        "        email = item.split(\"@\")[0] + item.split(\"@\")[1].split(\".\")[0]  # Extract the username part of the email\n",
        "        if email not in added_emails:\n",
        "            clean_list.append(item)\n",
        "            added_emails.add(email)\n",
        "print(clean_list)\n",
        "\n",
        "\n"
      ],
      "metadata": {
        "colab": {
          "base_uri": "https://localhost:8080/"
        },
        "id": "VR5jCeb_xXyw",
        "outputId": "87ca3654-ce49-47ee-de26-6ffc1d0b5737"
      },
      "execution_count": null,
      "outputs": [
        {
          "output_type": "stream",
          "name": "stdout",
          "text": [
            "165\n",
            "['infinityfitnessfalmouth@gmail.com', 'usafitness247@gmail.com', 'usafitness247@gmail.com', 'usafitnessfalmouth@gmail.com', 'usafitness247@gmail.com', 'usafitness247@gmail.com', 'usafitness247@gmail.com', 'user@domain.com', 'usafitness247@gmail.com', 'usafitness247@gmail.com', 'usafitness247@gmail.com', 'usafitness247@gmail.com', 'usafitnessfalmouth@gmail.com', 'usafitnessfalmouth@gmail.com', 'usafitnessfalmouth@gmail.com', 'usafitness247@gmail.com', '605a7baede844d278b89dc95ae0a9123@sentry-next.wixpress.com', 'dd0a55ccb8124b9c9d938e3acf41f8aa@sentry.wixpress.com', '88170cb0c9d64f94b5821ca7fd2d55a4@sentry-next.wixpress.com', '88170cb0c9d64f94b5821ca7fd2d55a4@sentry-next.wixpress.com', '88170cb0c9d64f94b5821ca7fd2d55a4@sentry-next.wixpress.com', '88170cb0c9d64f94b5821ca7fd2d55a4@sentry-next.wixpress.com', '8eb368c655b84e029ed79ad7a5c1718e@sentry.wixpress.com', 'dd0a55ccb8124b9c9d938e3acf41f8aa@sentry.wixpress.com', '88170cb0c9d64f94b5821ca7fd2d55a4@sentry-next.wixpress.com', '88170cb0c9d64f94b5821ca7fd2d55a4@sentry-next.wixpress.com', '88170cb0c9d64f94b5821ca7fd2d55a4@sentry-next.wixpress.com', '88170cb0c9d64f94b5821ca7fd2d55a4@sentry-next.wixpress.com', '8eb368c655b84e029ed79ad7a5c1718e@sentry.wixpress.com', '88170cb0c9d64f94b5821ca7fd2d55a4@sentry-next.wixpress.com', '88170cb0c9d64f94b5821ca7fd2d55a4@sentry-next.wixpress.com', '8eb368c655b84e029ed79ad7a5c1718e@sentry.wixpress.com', '8eb368c655b84e029ed79ad7a5c1718e@sentry.wixpress.com', 'dd0a55ccb8124b9c9d938e3acf41f8aa@sentry.wixpress.com', '88170cb0c9d64f94b5821ca7fd2d55a4@sentry-next.wixpress.com', '88170cb0c9d64f94b5821ca7fd2d55a4@sentry-next.wixpress.com', '88170cb0c9d64f94b5821ca7fd2d55a4@sentry-next.wixpress.com', '88170cb0c9d64f94b5821ca7fd2d55a4@sentry-next.wixpress.com', '88170cb0c9d64f94b5821ca7fd2d55a4@sentry-next.wixpress.com', '8eb368c655b84e029ed79ad7a5c1718e@sentry.wixpress.com', '8eb368c655b84e029ed79ad7a5c1718e@sentry.wixpress.com', '8eb368c655b84e029ed79ad7a5c1718e@sentry.wixpress.com', '8eb368c655b84e029ed79ad7a5c1718e@sentry.wixpress.com', 'migymkp@gmail.com', 'migymkp@gmail.com', 'migymkp@gmail.com', 'migymkp@gmail.com', 'nsffit24@gmail.com', 'nsffit24@gmail.com', 'nsffit24@gmail.com', 'nsffit24@gmail.com', 'info.butlerhf@gmail.com', 'info.butlerhf@gmail.com', 'info.butlerhf@gmail.com', 'info.butlerhf@gmail.com', 'user@domain.com', 'info.butlerhf@gmail.com', 'factfitnesscoaching@gmail.com', '605a7baede844d278b89dc95ae0a9123@sentry-next.wixpress.com', 'greatlakesfitness@gmail.com', 'Bedford.priorityfitness@gmail.com', 'Bedford.priorityfitness@gmail.com', 'Bedford.priorityfitness@gmail.com', 'billingpriorityfitnessbedford@gmail.com', 'billingpriorityfitnessbedford@gmail.com', 'Bedford.priorityfitness@gmail.com', 'Bedford.priorityfitness@gmail.com', 'eafitplace@gmail.com', 'eafitplace@gmail.com', 'eafitplace@gmail.com', '605a7baede844d278b89dc95ae0a9123@sentry-next.wixpress.com', 'baf30a2b91654c5a840931f0137bed30@sentry.wixpress.com', 'baf30a2b91654c5a840931f0137bed30@sentry.wixpress.com', '0e6a29e4756740a8a63493e912ba2174@sentry.wixpress.com', '0e6a29e4756740a8a63493e912ba2174@sentry.wixpress.com', 'dd0a55ccb8124b9c9d938e3acf41f8aa@sentry.wixpress.com', '88170cb0c9d64f94b5821ca7fd2d55a4@sentry-next.wixpress.com', '88170cb0c9d64f94b5821ca7fd2d55a4@sentry-next.wixpress.com', '88170cb0c9d64f94b5821ca7fd2d55a4@sentry-next.wixpress.com', '88170cb0c9d64f94b5821ca7fd2d55a4@sentry-next.wixpress.com', '8c4075d5481d476e945486754f783364@sentry.io', 'baf30a2b91654c5a840931f0137bed30@sentry.wixpress.com', 'baf30a2b91654c5a840931f0137bed30@sentry.wixpress.com', '0e6a29e4756740a8a63493e912ba2174@sentry.wixpress.com', '0e6a29e4756740a8a63493e912ba2174@sentry.wixpress.com', 'dd0a55ccb8124b9c9d938e3acf41f8aa@sentry.wixpress.com', '88170cb0c9d64f94b5821ca7fd2d55a4@sentry-next.wixpress.com', '88170cb0c9d64f94b5821ca7fd2d55a4@sentry-next.wixpress.com', '88170cb0c9d64f94b5821ca7fd2d55a4@sentry-next.wixpress.com', '88170cb0c9d64f94b5821ca7fd2d55a4@sentry-next.wixpress.com', '8c4075d5481d476e945486754f783364@sentry.io', '88170cb0c9d64f94b5821ca7fd2d55a4@sentry-next.wixpress.com', '88170cb0c9d64f94b5821ca7fd2d55a4@sentry-next.wixpress.com', 'baf30a2b91654c5a840931f0137bed30@sentry.wixpress.com', 'baf30a2b91654c5a840931f0137bed30@sentry.wixpress.com', '0e6a29e4756740a8a63493e912ba2174@sentry.wixpress.com', '0e6a29e4756740a8a63493e912ba2174@sentry.wixpress.com', 'dd0a55ccb8124b9c9d938e3acf41f8aa@sentry.wixpress.com', '88170cb0c9d64f94b5821ca7fd2d55a4@sentry-next.wixpress.com', '88170cb0c9d64f94b5821ca7fd2d55a4@sentry-next.wixpress.com', '88170cb0c9d64f94b5821ca7fd2d55a4@sentry-next.wixpress.com', '88170cb0c9d64f94b5821ca7fd2d55a4@sentry-next.wixpress.com', '88170cb0c9d64f94b5821ca7fd2d55a4@sentry-next.wixpress.com', '8c4075d5481d476e945486754f783364@sentry.io', 'PrescribedFitnessSD@gmail.com', 'PrescribedFitnessSD@gmail.com', 'prescribedfitnesssd@gmail.com', 'prescribedfitnessSD@gmail.com', 'PrescribedFitnessSD@gmail.com', 'PrescribedFitnessSD@gmail.com', 'PrescribedFitnessSD@gmail.com', '605a7baede844d278b89dc95ae0a9123@sentry-next.wixpress.com', 'dd0a55ccb8124b9c9d938e3acf41f8aa@sentry.wixpress.com', '8c4075d5481d476e945486754f783364@sentry.io', 'f36cc48fb72b4d298c835f2793cf3b84@sentry-next.wixpress.com', 'f36cc48fb72b4d298c835f2793cf3b84@sentry-next.wixpress.com', 'f36cc48fb72b4d298c835f2793cf3b84@sentry-next.wixpress.com', 'f36cc48fb72b4d298c835f2793cf3b84@sentry-next.wixpress.com', 'f36cc48fb72b4d298c835f2793cf3b84@sentry-next.wixpress.com', 'f36cc48fb72b4d298c835f2793cf3b84@sentry-next.wixpress.com', '88170cb0c9d64f94b5821ca7fd2d55a4@sentry-next.wixpress.com', '88170cb0c9d64f94b5821ca7fd2d55a4@sentry-next.wixpress.com', '88170cb0c9d64f94b5821ca7fd2d55a4@sentry-next.wixpress.com', '88170cb0c9d64f94b5821ca7fd2d55a4@sentry-next.wixpress.com', '8eb368c655b84e029ed79ad7a5c1718e@sentry.wixpress.com', 'dd0a55ccb8124b9c9d938e3acf41f8aa@sentry.wixpress.com', '8c4075d5481d476e945486754f783364@sentry.io', 'f36cc48fb72b4d298c835f2793cf3b84@sentry-next.wixpress.com', 'f36cc48fb72b4d298c835f2793cf3b84@sentry-next.wixpress.com', 'f36cc48fb72b4d298c835f2793cf3b84@sentry-next.wixpress.com', 'f36cc48fb72b4d298c835f2793cf3b84@sentry-next.wixpress.com', 'f36cc48fb72b4d298c835f2793cf3b84@sentry-next.wixpress.com', 'f36cc48fb72b4d298c835f2793cf3b84@sentry-next.wixpress.com', '88170cb0c9d64f94b5821ca7fd2d55a4@sentry-next.wixpress.com', '88170cb0c9d64f94b5821ca7fd2d55a4@sentry-next.wixpress.com', '88170cb0c9d64f94b5821ca7fd2d55a4@sentry-next.wixpress.com', '88170cb0c9d64f94b5821ca7fd2d55a4@sentry-next.wixpress.com', '8eb368c655b84e029ed79ad7a5c1718e@sentry.wixpress.com', 'f36cc48fb72b4d298c835f2793cf3b84@sentry-next.wixpress.com', 'f36cc48fb72b4d298c835f2793cf3b84@sentry-next.wixpress.com', '88170cb0c9d64f94b5821ca7fd2d55a4@sentry-next.wixpress.com', '88170cb0c9d64f94b5821ca7fd2d55a4@sentry-next.wixpress.com', '8eb368c655b84e029ed79ad7a5c1718e@sentry.wixpress.com', '8eb368c655b84e029ed79ad7a5c1718e@sentry.wixpress.com', 'dd0a55ccb8124b9c9d938e3acf41f8aa@sentry.wixpress.com', '8c4075d5481d476e945486754f783364@sentry.io', 'f36cc48fb72b4d298c835f2793cf3b84@sentry-next.wixpress.com', 'f36cc48fb72b4d298c835f2793cf3b84@sentry-next.wixpress.com', 'f36cc48fb72b4d298c835f2793cf3b84@sentry-next.wixpress.com', 'f36cc48fb72b4d298c835f2793cf3b84@sentry-next.wixpress.com', 'f36cc48fb72b4d298c835f2793cf3b84@sentry-next.wixpress.com', 'f36cc48fb72b4d298c835f2793cf3b84@sentry-next.wixpress.com', 'f36cc48fb72b4d298c835f2793cf3b84@sentry-next.wixpress.com', 'f36cc48fb72b4d298c835f2793cf3b84@sentry-next.wixpress.com', '88170cb0c9d64f94b5821ca7fd2d55a4@sentry-next.wixpress.com', '88170cb0c9d64f94b5821ca7fd2d55a4@sentry-next.wixpress.com', '88170cb0c9d64f94b5821ca7fd2d55a4@sentry-next.wixpress.com', '88170cb0c9d64f94b5821ca7fd2d55a4@sentry-next.wixpress.com', '88170cb0c9d64f94b5821ca7fd2d55a4@sentry-next.wixpress.com', '8eb368c655b84e029ed79ad7a5c1718e@sentry.wixpress.com', '8eb368c655b84e029ed79ad7a5c1718e@sentry.wixpress.com', '8eb368c655b84e029ed79ad7a5c1718e@sentry.wixpress.com', '8eb368c655b84e029ed79ad7a5c1718e@sentry.wixpress.com', 'Fittrainingjen@gmail.com', 'Fittrainingjen@gmail.com']\n",
            "['infinityfitnessfalmouth@gmail.com', 'usafitness247@gmail.com', 'usafitnessfalmouth@gmail.com', 'migymkp@gmail.com', 'nsffit24@gmail.com', 'info.butlerhf@gmail.com', 'factfitnesscoaching@gmail.com', 'greatlakesfitness@gmail.com', 'Bedford.priorityfitness@gmail.com', 'billingpriorityfitnessbedford@gmail.com', 'eafitplace@gmail.com', 'PrescribedFitnessSD@gmail.com', 'prescribedfitnesssd@gmail.com', 'prescribedfitnessSD@gmail.com', 'Fittrainingjen@gmail.com']\n"
          ]
        }
      ]
    },
    {
      "cell_type": "code",
      "source": [
        "#### Data Cleaning\n",
        "import csv\n",
        "import pandas as pd\n",
        "# Load the Excel file\n",
        "df = pd.read_excel('your_excel_file.xlsx')\n",
        "# Extract the first column into a list\n",
        "single_list = df.iloc[:, 0].tolist()\n",
        "clean_list_period = []\n",
        "added_emails = set()\n",
        "for item in single_list:\n",
        "    if \"@gmail\" in item or \"@yahoo\" in item:\n",
        "        email = item.split(\"@\")[0] + item.split(\"@\")[1].split(\".\")[0]  # Extract the username part of the email\n",
        "        if email not in added_emails:\n",
        "            clean_list_period.append(item)\n",
        "            added_emails.add(email)\n",
        "# Remove peroid from list\n",
        "def remove_periods(strings):\n",
        "    updated_strings = []\n",
        "    for string in strings:\n",
        "        updated_string = string.replace('.', '')\n",
        "        updated_strings.append(updated_string)\n",
        "    return updated_strings\n",
        "clean_list = remove_periods(clean_list_period)\n",
        "# saving into a csv file\n",
        "def save_list_to_csv(data, filename):\n",
        "    with open(filename, 'w', newline='') as csvfile:\n",
        "        writer = csv.writer(csvfile)\n",
        "        writer.writerow(['Strings'])  # Optional: Write header row if needed\n",
        "        writer.writerows(data)\n",
        "\n",
        "save_list_to_csv(clean_list, email_data.csv)\n",
        "\n",
        "\n"
      ],
      "metadata": {
        "id": "JbvVcD4nmMW8",
        "colab": {
          "base_uri": "https://localhost:8080/"
        },
        "outputId": "a7ef4931-91d4-463c-eee5-6906d13aa9a9"
      },
      "execution_count": null,
      "outputs": [
        {
          "output_type": "stream",
          "name": "stdout",
          "text": [
            "['hhbjj@yahoo.com', 'cvhbb@gmail.com']\n"
          ]
        }
      ]
    },
    {
      "cell_type": "code",
      "source": [],
      "metadata": {
        "id": "5EDBAq6eB9u6"
      },
      "execution_count": null,
      "outputs": []
    },
    {
      "cell_type": "code",
      "source": [
        "from googlesearch import search\n",
        "import requests\n",
        "import re\n",
        "\n",
        "#query = input('''Enetr your query: ''')\n",
        "query = ''' fitnes center \"@gmail.com\" United States '''\n",
        "search_result = search(query, tld='com',num=100000, stop=10, pause=2)\n",
        "# Extracting E-Mail\n",
        "def extract_emails(text):\n",
        "    email_regex = r'\\b[A-Za-z0-9._%+-]+@[A-Za-z0-9.-]+\\.[A-Z|a-z]{2,}\\b'\n",
        "    return re.findall(email_regex, text)\n",
        "email_list = []\n",
        "for url in search_result:\n",
        "  #print(url)\n",
        "  url_emails_list =[]\n",
        "  try:\n",
        "    response = requests.get(url)\n",
        "    url_emails = extract_emails(response.text)\n",
        "    for item in url_emails:\n",
        "      if item not in url_emails_list:\n",
        "        url_emails_list.append(item)\n",
        "    email_list.extend(url_emails_list)\n",
        "  except Exception as e:\n",
        "    pass\n",
        "for item in email_list:\n",
        "  csv_file = 'data.csv'\n",
        "  append_to_csv(csv_file, item)\n",
        "#print(len(email_list))\n",
        "#print(email_list)\n",
        "def calculate_data_length(file_name):\n",
        "    with open(file_name, 'r') as csvfile:\n",
        "        reader = csv.reader(csvfile)\n",
        "        data_length = sum(1 for row in reader)\n",
        "\n",
        "    return data_length\n",
        "\n",
        "# Example usage\n",
        "csv_file = 'data.csv'\n",
        "length = calculate_data_length(csv_file)\n",
        "print(f\"Data length: {length}\")\n",
        "\n"
      ],
      "metadata": {
        "colab": {
          "base_uri": "https://localhost:8080/",
          "height": 235
        },
        "id": "HRpLuvX8D_V-",
        "outputId": "6f755628-e878-4021-ffc4-3a2661f5ffad"
      },
      "execution_count": null,
      "outputs": [
        {
          "output_type": "error",
          "ename": "NameError",
          "evalue": "ignored",
          "traceback": [
            "\u001b[0;31m---------------------------------------------------------------------------\u001b[0m",
            "\u001b[0;31mNameError\u001b[0m                                 Traceback (most recent call last)",
            "\u001b[0;32m<ipython-input-2-f21bad2fe0e0>\u001b[0m in \u001b[0;36m<cell line: 25>\u001b[0;34m()\u001b[0m\n\u001b[1;32m     25\u001b[0m \u001b[0;32mfor\u001b[0m \u001b[0mitem\u001b[0m \u001b[0;32min\u001b[0m \u001b[0memail_list\u001b[0m\u001b[0;34m:\u001b[0m\u001b[0;34m\u001b[0m\u001b[0;34m\u001b[0m\u001b[0m\n\u001b[1;32m     26\u001b[0m   \u001b[0mcsv_file\u001b[0m \u001b[0;34m=\u001b[0m \u001b[0;34m'data.csv'\u001b[0m\u001b[0;34m\u001b[0m\u001b[0;34m\u001b[0m\u001b[0m\n\u001b[0;32m---> 27\u001b[0;31m   \u001b[0mappend_to_csv\u001b[0m\u001b[0;34m(\u001b[0m\u001b[0mcsv_file\u001b[0m\u001b[0;34m,\u001b[0m \u001b[0mitem\u001b[0m\u001b[0;34m)\u001b[0m\u001b[0;34m\u001b[0m\u001b[0;34m\u001b[0m\u001b[0m\n\u001b[0m\u001b[1;32m     28\u001b[0m \u001b[0;31m#print(len(email_list))\u001b[0m\u001b[0;34m\u001b[0m\u001b[0;34m\u001b[0m\u001b[0m\n\u001b[1;32m     29\u001b[0m \u001b[0;31m#print(email_list)\u001b[0m\u001b[0;34m\u001b[0m\u001b[0;34m\u001b[0m\u001b[0m\n",
            "\u001b[0;31mNameError\u001b[0m: name 'append_to_csv' is not defined"
          ]
        }
      ]
    },
    {
      "cell_type": "code",
      "source": [],
      "metadata": {
        "id": "ZIHvbLmFxOcj"
      },
      "execution_count": null,
      "outputs": []
    },
    {
      "cell_type": "code",
      "source": [
        "from googlesearch import search\n",
        "import requests\n",
        "import re\n",
        "import csv\n",
        "\n",
        "query = '''fitnes \"@gmail.com\" united state'''\n",
        "search_result = search(query, tld='com',num=1000, stop=1000, pause=2)\n",
        "# Extracting E-Mail\n",
        "def extract_emails(text):\n",
        "    email_regex = r'\\b[A-Za-z0-9._%+-]+@[A-Za-z0-9.-]+\\.[A-Z|a-z]{2,}\\b'\n",
        "    return re.findall(email_regex, text)\n",
        "# Appending to a CSV file\n",
        "def append_to_csv(file_name, variable):\n",
        "    with open(file_name, 'a', newline='') as csvfile:\n",
        "        writer = csv.writer(csvfile)\n",
        "        writer.writerow([variable])\n",
        "for url in search_result:\n",
        "  try:\n",
        "    url_emails_list =[]\n",
        "    response = requests.get(url)\n",
        "    # Extracting E-Mails\n",
        "    url_emails = extract_emails(response.text)\n",
        "    # Cleaning E-Mail list\n",
        "    for item in url_emails:\n",
        "      if item not in url_emails_list:\n",
        "        url_emails_list.append(item)\n",
        "    # Appending to a CSV file\n",
        "    for item in url_emails:\n",
        "        csv_file = 'data.csv'\n",
        "        append_to_csv(csv_file, item)\n",
        "  except Exception as e:\n",
        "    pass\n",
        "\n",
        "\n"
      ],
      "metadata": {
        "id": "3vDC17kLLgrV",
        "colab": {
          "base_uri": "https://localhost:8080/",
          "height": 380
        },
        "outputId": "540607e9-24ef-425b-cc43-2ece40a2f511"
      },
      "execution_count": null,
      "outputs": [
        {
          "output_type": "error",
          "ename": "KeyboardInterrupt",
          "evalue": "ignored",
          "traceback": [
            "\u001b[0;31m---------------------------------------------------------------------------\u001b[0m",
            "\u001b[0;31mKeyboardInterrupt\u001b[0m                         Traceback (most recent call last)",
            "\u001b[0;32m<ipython-input-8-b2c8cb818a24>\u001b[0m in \u001b[0;36m<cell line: 17>\u001b[0;34m()\u001b[0m\n\u001b[1;32m     18\u001b[0m   \u001b[0;32mtry\u001b[0m\u001b[0;34m:\u001b[0m\u001b[0;34m\u001b[0m\u001b[0;34m\u001b[0m\u001b[0m\n\u001b[1;32m     19\u001b[0m     \u001b[0murl_emails_list\u001b[0m \u001b[0;34m=\u001b[0m\u001b[0;34m[\u001b[0m\u001b[0;34m]\u001b[0m\u001b[0;34m\u001b[0m\u001b[0;34m\u001b[0m\u001b[0m\n\u001b[0;32m---> 20\u001b[0;31m     \u001b[0mresponse\u001b[0m \u001b[0;34m=\u001b[0m \u001b[0mrequests\u001b[0m\u001b[0;34m.\u001b[0m\u001b[0mget\u001b[0m\u001b[0;34m(\u001b[0m\u001b[0murl\u001b[0m\u001b[0;34m)\u001b[0m\u001b[0;34m\u001b[0m\u001b[0;34m\u001b[0m\u001b[0m\n\u001b[0m\u001b[1;32m     21\u001b[0m     \u001b[0;31m# Extracting E-Mails\u001b[0m\u001b[0;34m\u001b[0m\u001b[0;34m\u001b[0m\u001b[0m\n\u001b[1;32m     22\u001b[0m     \u001b[0murl_emails\u001b[0m \u001b[0;34m=\u001b[0m \u001b[0mextract_emails\u001b[0m\u001b[0;34m(\u001b[0m\u001b[0mresponse\u001b[0m\u001b[0;34m.\u001b[0m\u001b[0mtext\u001b[0m\u001b[0;34m)\u001b[0m\u001b[0;34m\u001b[0m\u001b[0;34m\u001b[0m\u001b[0m\n",
            "\u001b[0;32m/usr/local/lib/python3.10/dist-packages/requests/api.py\u001b[0m in \u001b[0;36mget\u001b[0;34m(url, params, **kwargs)\u001b[0m\n\u001b[1;32m     73\u001b[0m     \"\"\"\n\u001b[1;32m     74\u001b[0m \u001b[0;34m\u001b[0m\u001b[0m\n\u001b[0;32m---> 75\u001b[0;31m     \u001b[0;32mreturn\u001b[0m \u001b[0mrequest\u001b[0m\u001b[0;34m(\u001b[0m\u001b[0;34m'get'\u001b[0m\u001b[0;34m,\u001b[0m \u001b[0murl\u001b[0m\u001b[0;34m,\u001b[0m \u001b[0mparams\u001b[0m\u001b[0;34m=\u001b[0m\u001b[0mparams\u001b[0m\u001b[0;34m,\u001b[0m \u001b[0;34m**\u001b[0m\u001b[0mkwargs\u001b[0m\u001b[0;34m)\u001b[0m\u001b[0;34m\u001b[0m\u001b[0;34m\u001b[0m\u001b[0m\n\u001b[0m\u001b[1;32m     76\u001b[0m \u001b[0;34m\u001b[0m\u001b[0m\n\u001b[1;32m     77\u001b[0m \u001b[0;34m\u001b[0m\u001b[0m\n",
            "\u001b[0;32m/usr/local/lib/python3.10/dist-packages/requests/api.py\u001b[0m in \u001b[0;36mrequest\u001b[0;34m(method, url, **kwargs)\u001b[0m\n\u001b[1;32m     59\u001b[0m     \u001b[0;31m# cases, and look like a memory leak in others.\u001b[0m\u001b[0;34m\u001b[0m\u001b[0;34m\u001b[0m\u001b[0m\n\u001b[1;32m     60\u001b[0m     \u001b[0;32mwith\u001b[0m \u001b[0msessions\u001b[0m\u001b[0;34m.\u001b[0m\u001b[0mSession\u001b[0m\u001b[0;34m(\u001b[0m\u001b[0;34m)\u001b[0m \u001b[0;32mas\u001b[0m \u001b[0msession\u001b[0m\u001b[0;34m:\u001b[0m\u001b[0;34m\u001b[0m\u001b[0;34m\u001b[0m\u001b[0m\n\u001b[0;32m---> 61\u001b[0;31m         \u001b[0;32mreturn\u001b[0m \u001b[0msession\u001b[0m\u001b[0;34m.\u001b[0m\u001b[0mrequest\u001b[0m\u001b[0;34m(\u001b[0m\u001b[0mmethod\u001b[0m\u001b[0;34m=\u001b[0m\u001b[0mmethod\u001b[0m\u001b[0;34m,\u001b[0m \u001b[0murl\u001b[0m\u001b[0;34m=\u001b[0m\u001b[0murl\u001b[0m\u001b[0;34m,\u001b[0m \u001b[0;34m**\u001b[0m\u001b[0mkwargs\u001b[0m\u001b[0;34m)\u001b[0m\u001b[0;34m\u001b[0m\u001b[0;34m\u001b[0m\u001b[0m\n\u001b[0m\u001b[1;32m     62\u001b[0m \u001b[0;34m\u001b[0m\u001b[0m\n\u001b[1;32m     63\u001b[0m \u001b[0;34m\u001b[0m\u001b[0m\n",
            "\u001b[0;32m/usr/local/lib/python3.10/dist-packages/requests/sessions.py\u001b[0m in \u001b[0;36mrequest\u001b[0;34m(self, method, url, params, data, headers, cookies, files, auth, timeout, allow_redirects, proxies, hooks, stream, verify, cert, json)\u001b[0m\n\u001b[1;32m    527\u001b[0m         }\n\u001b[1;32m    528\u001b[0m         \u001b[0msend_kwargs\u001b[0m\u001b[0;34m.\u001b[0m\u001b[0mupdate\u001b[0m\u001b[0;34m(\u001b[0m\u001b[0msettings\u001b[0m\u001b[0;34m)\u001b[0m\u001b[0;34m\u001b[0m\u001b[0;34m\u001b[0m\u001b[0m\n\u001b[0;32m--> 529\u001b[0;31m         \u001b[0mresp\u001b[0m \u001b[0;34m=\u001b[0m \u001b[0mself\u001b[0m\u001b[0;34m.\u001b[0m\u001b[0msend\u001b[0m\u001b[0;34m(\u001b[0m\u001b[0mprep\u001b[0m\u001b[0;34m,\u001b[0m \u001b[0;34m**\u001b[0m\u001b[0msend_kwargs\u001b[0m\u001b[0;34m)\u001b[0m\u001b[0;34m\u001b[0m\u001b[0;34m\u001b[0m\u001b[0m\n\u001b[0m\u001b[1;32m    530\u001b[0m \u001b[0;34m\u001b[0m\u001b[0m\n\u001b[1;32m    531\u001b[0m         \u001b[0;32mreturn\u001b[0m \u001b[0mresp\u001b[0m\u001b[0;34m\u001b[0m\u001b[0;34m\u001b[0m\u001b[0m\n",
            "\u001b[0;32m/usr/local/lib/python3.10/dist-packages/requests/sessions.py\u001b[0m in \u001b[0;36msend\u001b[0;34m(self, request, **kwargs)\u001b[0m\n\u001b[1;32m    643\u001b[0m \u001b[0;34m\u001b[0m\u001b[0m\n\u001b[1;32m    644\u001b[0m         \u001b[0;31m# Send the request\u001b[0m\u001b[0;34m\u001b[0m\u001b[0;34m\u001b[0m\u001b[0m\n\u001b[0;32m--> 645\u001b[0;31m         \u001b[0mr\u001b[0m \u001b[0;34m=\u001b[0m \u001b[0madapter\u001b[0m\u001b[0;34m.\u001b[0m\u001b[0msend\u001b[0m\u001b[0;34m(\u001b[0m\u001b[0mrequest\u001b[0m\u001b[0;34m,\u001b[0m \u001b[0;34m**\u001b[0m\u001b[0mkwargs\u001b[0m\u001b[0;34m)\u001b[0m\u001b[0;34m\u001b[0m\u001b[0;34m\u001b[0m\u001b[0m\n\u001b[0m\u001b[1;32m    646\u001b[0m \u001b[0;34m\u001b[0m\u001b[0m\n\u001b[1;32m    647\u001b[0m         \u001b[0;31m# Total elapsed time of the request (approximately)\u001b[0m\u001b[0;34m\u001b[0m\u001b[0;34m\u001b[0m\u001b[0m\n",
            "\u001b[0;32m/usr/local/lib/python3.10/dist-packages/requests/adapters.py\u001b[0m in \u001b[0;36msend\u001b[0;34m(self, request, stream, timeout, verify, cert, proxies)\u001b[0m\n\u001b[1;32m    438\u001b[0m         \u001b[0;32mtry\u001b[0m\u001b[0;34m:\u001b[0m\u001b[0;34m\u001b[0m\u001b[0;34m\u001b[0m\u001b[0m\n\u001b[1;32m    439\u001b[0m             \u001b[0;32mif\u001b[0m \u001b[0;32mnot\u001b[0m \u001b[0mchunked\u001b[0m\u001b[0;34m:\u001b[0m\u001b[0;34m\u001b[0m\u001b[0;34m\u001b[0m\u001b[0m\n\u001b[0;32m--> 440\u001b[0;31m                 resp = conn.urlopen(\n\u001b[0m\u001b[1;32m    441\u001b[0m                     \u001b[0mmethod\u001b[0m\u001b[0;34m=\u001b[0m\u001b[0mrequest\u001b[0m\u001b[0;34m.\u001b[0m\u001b[0mmethod\u001b[0m\u001b[0;34m,\u001b[0m\u001b[0;34m\u001b[0m\u001b[0;34m\u001b[0m\u001b[0m\n\u001b[1;32m    442\u001b[0m                     \u001b[0murl\u001b[0m\u001b[0;34m=\u001b[0m\u001b[0murl\u001b[0m\u001b[0;34m,\u001b[0m\u001b[0;34m\u001b[0m\u001b[0;34m\u001b[0m\u001b[0m\n",
            "\u001b[0;32m/usr/local/lib/python3.10/dist-packages/urllib3/connectionpool.py\u001b[0m in \u001b[0;36murlopen\u001b[0;34m(self, method, url, body, headers, retries, redirect, assert_same_host, timeout, pool_timeout, release_conn, chunked, body_pos, **response_kw)\u001b[0m\n\u001b[1;32m    701\u001b[0m \u001b[0;34m\u001b[0m\u001b[0m\n\u001b[1;32m    702\u001b[0m             \u001b[0;31m# Make the request on the httplib connection object.\u001b[0m\u001b[0;34m\u001b[0m\u001b[0;34m\u001b[0m\u001b[0m\n\u001b[0;32m--> 703\u001b[0;31m             httplib_response = self._make_request(\n\u001b[0m\u001b[1;32m    704\u001b[0m                 \u001b[0mconn\u001b[0m\u001b[0;34m,\u001b[0m\u001b[0;34m\u001b[0m\u001b[0;34m\u001b[0m\u001b[0m\n\u001b[1;32m    705\u001b[0m                 \u001b[0mmethod\u001b[0m\u001b[0;34m,\u001b[0m\u001b[0;34m\u001b[0m\u001b[0;34m\u001b[0m\u001b[0m\n",
            "\u001b[0;32m/usr/local/lib/python3.10/dist-packages/urllib3/connectionpool.py\u001b[0m in \u001b[0;36m_make_request\u001b[0;34m(self, conn, method, url, timeout, chunked, **httplib_request_kw)\u001b[0m\n\u001b[1;32m    447\u001b[0m                     \u001b[0;31m# Python 3 (including for exceptions like SystemExit).\u001b[0m\u001b[0;34m\u001b[0m\u001b[0;34m\u001b[0m\u001b[0m\n\u001b[1;32m    448\u001b[0m                     \u001b[0;31m# Otherwise it looks like a bug in the code.\u001b[0m\u001b[0;34m\u001b[0m\u001b[0;34m\u001b[0m\u001b[0m\n\u001b[0;32m--> 449\u001b[0;31m                     \u001b[0msix\u001b[0m\u001b[0;34m.\u001b[0m\u001b[0mraise_from\u001b[0m\u001b[0;34m(\u001b[0m\u001b[0me\u001b[0m\u001b[0;34m,\u001b[0m \u001b[0;32mNone\u001b[0m\u001b[0;34m)\u001b[0m\u001b[0;34m\u001b[0m\u001b[0;34m\u001b[0m\u001b[0m\n\u001b[0m\u001b[1;32m    450\u001b[0m         \u001b[0;32mexcept\u001b[0m \u001b[0;34m(\u001b[0m\u001b[0mSocketTimeout\u001b[0m\u001b[0;34m,\u001b[0m \u001b[0mBaseSSLError\u001b[0m\u001b[0;34m,\u001b[0m \u001b[0mSocketError\u001b[0m\u001b[0;34m)\u001b[0m \u001b[0;32mas\u001b[0m \u001b[0me\u001b[0m\u001b[0;34m:\u001b[0m\u001b[0;34m\u001b[0m\u001b[0;34m\u001b[0m\u001b[0m\n\u001b[1;32m    451\u001b[0m             \u001b[0mself\u001b[0m\u001b[0;34m.\u001b[0m\u001b[0m_raise_timeout\u001b[0m\u001b[0;34m(\u001b[0m\u001b[0merr\u001b[0m\u001b[0;34m=\u001b[0m\u001b[0me\u001b[0m\u001b[0;34m,\u001b[0m \u001b[0murl\u001b[0m\u001b[0;34m=\u001b[0m\u001b[0murl\u001b[0m\u001b[0;34m,\u001b[0m \u001b[0mtimeout_value\u001b[0m\u001b[0;34m=\u001b[0m\u001b[0mread_timeout\u001b[0m\u001b[0;34m)\u001b[0m\u001b[0;34m\u001b[0m\u001b[0;34m\u001b[0m\u001b[0m\n",
            "\u001b[0;32m/usr/local/lib/python3.10/dist-packages/urllib3/packages/six.py\u001b[0m in \u001b[0;36mraise_from\u001b[0;34m(value, from_value)\u001b[0m\n",
            "\u001b[0;32m/usr/local/lib/python3.10/dist-packages/urllib3/connectionpool.py\u001b[0m in \u001b[0;36m_make_request\u001b[0;34m(self, conn, method, url, timeout, chunked, **httplib_request_kw)\u001b[0m\n\u001b[1;32m    442\u001b[0m                 \u001b[0;31m# Python 3\u001b[0m\u001b[0;34m\u001b[0m\u001b[0;34m\u001b[0m\u001b[0m\n\u001b[1;32m    443\u001b[0m                 \u001b[0;32mtry\u001b[0m\u001b[0;34m:\u001b[0m\u001b[0;34m\u001b[0m\u001b[0;34m\u001b[0m\u001b[0m\n\u001b[0;32m--> 444\u001b[0;31m                     \u001b[0mhttplib_response\u001b[0m \u001b[0;34m=\u001b[0m \u001b[0mconn\u001b[0m\u001b[0;34m.\u001b[0m\u001b[0mgetresponse\u001b[0m\u001b[0;34m(\u001b[0m\u001b[0;34m)\u001b[0m\u001b[0;34m\u001b[0m\u001b[0;34m\u001b[0m\u001b[0m\n\u001b[0m\u001b[1;32m    445\u001b[0m                 \u001b[0;32mexcept\u001b[0m \u001b[0mBaseException\u001b[0m \u001b[0;32mas\u001b[0m \u001b[0me\u001b[0m\u001b[0;34m:\u001b[0m\u001b[0;34m\u001b[0m\u001b[0;34m\u001b[0m\u001b[0m\n\u001b[1;32m    446\u001b[0m                     \u001b[0;31m# Remove the TypeError from the exception chain in\u001b[0m\u001b[0;34m\u001b[0m\u001b[0;34m\u001b[0m\u001b[0m\n",
            "\u001b[0;32m/usr/lib/python3.10/http/client.py\u001b[0m in \u001b[0;36mgetresponse\u001b[0;34m(self)\u001b[0m\n\u001b[1;32m   1373\u001b[0m         \u001b[0;32mtry\u001b[0m\u001b[0;34m:\u001b[0m\u001b[0;34m\u001b[0m\u001b[0;34m\u001b[0m\u001b[0m\n\u001b[1;32m   1374\u001b[0m             \u001b[0;32mtry\u001b[0m\u001b[0;34m:\u001b[0m\u001b[0;34m\u001b[0m\u001b[0;34m\u001b[0m\u001b[0m\n\u001b[0;32m-> 1375\u001b[0;31m                 \u001b[0mresponse\u001b[0m\u001b[0;34m.\u001b[0m\u001b[0mbegin\u001b[0m\u001b[0;34m(\u001b[0m\u001b[0;34m)\u001b[0m\u001b[0;34m\u001b[0m\u001b[0;34m\u001b[0m\u001b[0m\n\u001b[0m\u001b[1;32m   1376\u001b[0m             \u001b[0;32mexcept\u001b[0m \u001b[0mConnectionError\u001b[0m\u001b[0;34m:\u001b[0m\u001b[0;34m\u001b[0m\u001b[0;34m\u001b[0m\u001b[0m\n\u001b[1;32m   1377\u001b[0m                 \u001b[0mself\u001b[0m\u001b[0;34m.\u001b[0m\u001b[0mclose\u001b[0m\u001b[0;34m(\u001b[0m\u001b[0;34m)\u001b[0m\u001b[0;34m\u001b[0m\u001b[0;34m\u001b[0m\u001b[0m\n",
            "\u001b[0;32m/usr/lib/python3.10/http/client.py\u001b[0m in \u001b[0;36mbegin\u001b[0;34m(self)\u001b[0m\n\u001b[1;32m    316\u001b[0m         \u001b[0;31m# read until we get a non-100 response\u001b[0m\u001b[0;34m\u001b[0m\u001b[0;34m\u001b[0m\u001b[0m\n\u001b[1;32m    317\u001b[0m         \u001b[0;32mwhile\u001b[0m \u001b[0;32mTrue\u001b[0m\u001b[0;34m:\u001b[0m\u001b[0;34m\u001b[0m\u001b[0;34m\u001b[0m\u001b[0m\n\u001b[0;32m--> 318\u001b[0;31m             \u001b[0mversion\u001b[0m\u001b[0;34m,\u001b[0m \u001b[0mstatus\u001b[0m\u001b[0;34m,\u001b[0m \u001b[0mreason\u001b[0m \u001b[0;34m=\u001b[0m \u001b[0mself\u001b[0m\u001b[0;34m.\u001b[0m\u001b[0m_read_status\u001b[0m\u001b[0;34m(\u001b[0m\u001b[0;34m)\u001b[0m\u001b[0;34m\u001b[0m\u001b[0;34m\u001b[0m\u001b[0m\n\u001b[0m\u001b[1;32m    319\u001b[0m             \u001b[0;32mif\u001b[0m \u001b[0mstatus\u001b[0m \u001b[0;34m!=\u001b[0m \u001b[0mCONTINUE\u001b[0m\u001b[0;34m:\u001b[0m\u001b[0;34m\u001b[0m\u001b[0;34m\u001b[0m\u001b[0m\n\u001b[1;32m    320\u001b[0m                 \u001b[0;32mbreak\u001b[0m\u001b[0;34m\u001b[0m\u001b[0;34m\u001b[0m\u001b[0m\n",
            "\u001b[0;32m/usr/lib/python3.10/http/client.py\u001b[0m in \u001b[0;36m_read_status\u001b[0;34m(self)\u001b[0m\n\u001b[1;32m    277\u001b[0m \u001b[0;34m\u001b[0m\u001b[0m\n\u001b[1;32m    278\u001b[0m     \u001b[0;32mdef\u001b[0m \u001b[0m_read_status\u001b[0m\u001b[0;34m(\u001b[0m\u001b[0mself\u001b[0m\u001b[0;34m)\u001b[0m\u001b[0;34m:\u001b[0m\u001b[0;34m\u001b[0m\u001b[0;34m\u001b[0m\u001b[0m\n\u001b[0;32m--> 279\u001b[0;31m         \u001b[0mline\u001b[0m \u001b[0;34m=\u001b[0m \u001b[0mstr\u001b[0m\u001b[0;34m(\u001b[0m\u001b[0mself\u001b[0m\u001b[0;34m.\u001b[0m\u001b[0mfp\u001b[0m\u001b[0;34m.\u001b[0m\u001b[0mreadline\u001b[0m\u001b[0;34m(\u001b[0m\u001b[0m_MAXLINE\u001b[0m \u001b[0;34m+\u001b[0m \u001b[0;36m1\u001b[0m\u001b[0;34m)\u001b[0m\u001b[0;34m,\u001b[0m \u001b[0;34m\"iso-8859-1\"\u001b[0m\u001b[0;34m)\u001b[0m\u001b[0;34m\u001b[0m\u001b[0;34m\u001b[0m\u001b[0m\n\u001b[0m\u001b[1;32m    280\u001b[0m         \u001b[0;32mif\u001b[0m \u001b[0mlen\u001b[0m\u001b[0;34m(\u001b[0m\u001b[0mline\u001b[0m\u001b[0;34m)\u001b[0m \u001b[0;34m>\u001b[0m \u001b[0m_MAXLINE\u001b[0m\u001b[0;34m:\u001b[0m\u001b[0;34m\u001b[0m\u001b[0;34m\u001b[0m\u001b[0m\n\u001b[1;32m    281\u001b[0m             \u001b[0;32mraise\u001b[0m \u001b[0mLineTooLong\u001b[0m\u001b[0;34m(\u001b[0m\u001b[0;34m\"status line\"\u001b[0m\u001b[0;34m)\u001b[0m\u001b[0;34m\u001b[0m\u001b[0;34m\u001b[0m\u001b[0m\n",
            "\u001b[0;32m/usr/lib/python3.10/socket.py\u001b[0m in \u001b[0;36mreadinto\u001b[0;34m(self, b)\u001b[0m\n\u001b[1;32m    703\u001b[0m         \u001b[0;32mwhile\u001b[0m \u001b[0;32mTrue\u001b[0m\u001b[0;34m:\u001b[0m\u001b[0;34m\u001b[0m\u001b[0;34m\u001b[0m\u001b[0m\n\u001b[1;32m    704\u001b[0m             \u001b[0;32mtry\u001b[0m\u001b[0;34m:\u001b[0m\u001b[0;34m\u001b[0m\u001b[0;34m\u001b[0m\u001b[0m\n\u001b[0;32m--> 705\u001b[0;31m                 \u001b[0;32mreturn\u001b[0m \u001b[0mself\u001b[0m\u001b[0;34m.\u001b[0m\u001b[0m_sock\u001b[0m\u001b[0;34m.\u001b[0m\u001b[0mrecv_into\u001b[0m\u001b[0;34m(\u001b[0m\u001b[0mb\u001b[0m\u001b[0;34m)\u001b[0m\u001b[0;34m\u001b[0m\u001b[0;34m\u001b[0m\u001b[0m\n\u001b[0m\u001b[1;32m    706\u001b[0m             \u001b[0;32mexcept\u001b[0m \u001b[0mtimeout\u001b[0m\u001b[0;34m:\u001b[0m\u001b[0;34m\u001b[0m\u001b[0;34m\u001b[0m\u001b[0m\n\u001b[1;32m    707\u001b[0m                 \u001b[0mself\u001b[0m\u001b[0;34m.\u001b[0m\u001b[0m_timeout_occurred\u001b[0m \u001b[0;34m=\u001b[0m \u001b[0;32mTrue\u001b[0m\u001b[0;34m\u001b[0m\u001b[0;34m\u001b[0m\u001b[0m\n",
            "\u001b[0;32m/usr/lib/python3.10/ssl.py\u001b[0m in \u001b[0;36mrecv_into\u001b[0;34m(self, buffer, nbytes, flags)\u001b[0m\n\u001b[1;32m   1272\u001b[0m                   \u001b[0;34m\"non-zero flags not allowed in calls to recv_into() on %s\"\u001b[0m \u001b[0;34m%\u001b[0m\u001b[0;34m\u001b[0m\u001b[0;34m\u001b[0m\u001b[0m\n\u001b[1;32m   1273\u001b[0m                   self.__class__)\n\u001b[0;32m-> 1274\u001b[0;31m             \u001b[0;32mreturn\u001b[0m \u001b[0mself\u001b[0m\u001b[0;34m.\u001b[0m\u001b[0mread\u001b[0m\u001b[0;34m(\u001b[0m\u001b[0mnbytes\u001b[0m\u001b[0;34m,\u001b[0m \u001b[0mbuffer\u001b[0m\u001b[0;34m)\u001b[0m\u001b[0;34m\u001b[0m\u001b[0;34m\u001b[0m\u001b[0m\n\u001b[0m\u001b[1;32m   1275\u001b[0m         \u001b[0;32melse\u001b[0m\u001b[0;34m:\u001b[0m\u001b[0;34m\u001b[0m\u001b[0;34m\u001b[0m\u001b[0m\n\u001b[1;32m   1276\u001b[0m             \u001b[0;32mreturn\u001b[0m \u001b[0msuper\u001b[0m\u001b[0;34m(\u001b[0m\u001b[0;34m)\u001b[0m\u001b[0;34m.\u001b[0m\u001b[0mrecv_into\u001b[0m\u001b[0;34m(\u001b[0m\u001b[0mbuffer\u001b[0m\u001b[0;34m,\u001b[0m \u001b[0mnbytes\u001b[0m\u001b[0;34m,\u001b[0m \u001b[0mflags\u001b[0m\u001b[0;34m)\u001b[0m\u001b[0;34m\u001b[0m\u001b[0;34m\u001b[0m\u001b[0m\n",
            "\u001b[0;32m/usr/lib/python3.10/ssl.py\u001b[0m in \u001b[0;36mread\u001b[0;34m(self, len, buffer)\u001b[0m\n\u001b[1;32m   1128\u001b[0m         \u001b[0;32mtry\u001b[0m\u001b[0;34m:\u001b[0m\u001b[0;34m\u001b[0m\u001b[0;34m\u001b[0m\u001b[0m\n\u001b[1;32m   1129\u001b[0m             \u001b[0;32mif\u001b[0m \u001b[0mbuffer\u001b[0m \u001b[0;32mis\u001b[0m \u001b[0;32mnot\u001b[0m \u001b[0;32mNone\u001b[0m\u001b[0;34m:\u001b[0m\u001b[0;34m\u001b[0m\u001b[0;34m\u001b[0m\u001b[0m\n\u001b[0;32m-> 1130\u001b[0;31m                 \u001b[0;32mreturn\u001b[0m \u001b[0mself\u001b[0m\u001b[0;34m.\u001b[0m\u001b[0m_sslobj\u001b[0m\u001b[0;34m.\u001b[0m\u001b[0mread\u001b[0m\u001b[0;34m(\u001b[0m\u001b[0mlen\u001b[0m\u001b[0;34m,\u001b[0m \u001b[0mbuffer\u001b[0m\u001b[0;34m)\u001b[0m\u001b[0;34m\u001b[0m\u001b[0;34m\u001b[0m\u001b[0m\n\u001b[0m\u001b[1;32m   1131\u001b[0m             \u001b[0;32melse\u001b[0m\u001b[0;34m:\u001b[0m\u001b[0;34m\u001b[0m\u001b[0;34m\u001b[0m\u001b[0m\n\u001b[1;32m   1132\u001b[0m                 \u001b[0;32mreturn\u001b[0m \u001b[0mself\u001b[0m\u001b[0;34m.\u001b[0m\u001b[0m_sslobj\u001b[0m\u001b[0;34m.\u001b[0m\u001b[0mread\u001b[0m\u001b[0;34m(\u001b[0m\u001b[0mlen\u001b[0m\u001b[0;34m)\u001b[0m\u001b[0;34m\u001b[0m\u001b[0;34m\u001b[0m\u001b[0m\n",
            "\u001b[0;31mKeyboardInterrupt\u001b[0m: "
          ]
        }
      ]
    },
    {
      "cell_type": "code",
      "source": [
        "import csv\n",
        "\n",
        "def calculate_data_length(file_name):\n",
        "    with open(file_name, 'r') as csvfile:\n",
        "        reader = csv.reader(csvfile)\n",
        "        data_length = sum(1 for row in reader)\n",
        "\n",
        "    return data_length\n",
        "\n",
        "# Example usage\n",
        "csv_file = 'data.csv'\n",
        "length = calculate_data_length(csv_file)\n",
        "print(f\"Data length: {length}\")\n"
      ],
      "metadata": {
        "colab": {
          "base_uri": "https://localhost:8080/"
        },
        "id": "ZTMq3dBrPFoD",
        "outputId": "644d2dbf-1240-4e00-eb87-69e62350cfe0"
      },
      "execution_count": null,
      "outputs": [
        {
          "output_type": "stream",
          "name": "stdout",
          "text": [
            "Data length: 645\n"
          ]
        }
      ]
    }
  ]
}