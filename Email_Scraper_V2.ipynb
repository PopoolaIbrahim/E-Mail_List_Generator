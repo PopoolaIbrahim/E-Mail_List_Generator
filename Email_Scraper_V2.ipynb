{
  "nbformat": 4,
  "nbformat_minor": 0,
  "metadata": {
    "colab": {
      "provenance": [],
      "mount_file_id": "https://github.com/PopoolaIbrahim/E-Mail_List_Generator/blob/main/Email_List_Generator.ipynb",
      "authorship_tag": "ABX9TyMnYRZVSqngbLggd5z4dyYo",
      "include_colab_link": true
    },
    "kernelspec": {
      "name": "python3",
      "display_name": "Python 3"
    },
    "language_info": {
      "name": "python"
    }
  },
  "cells": [
    {
      "cell_type": "markdown",
      "metadata": {
        "id": "view-in-github",
        "colab_type": "text"
      },
      "source": [
        "<a href=\"https://colab.research.google.com/github/PopoolaIbrahim/E-Mail_List_Generator/blob/main/Email_Scraper_V2.ipynb\" target=\"_parent\"><img src=\"https://colab.research.google.com/assets/colab-badge.svg\" alt=\"Open In Colab\"/></a>"
      ]
    },
    {
      "cell_type": "code",
      "source": [
        "### Install Requirements\n",
        "!pip install fake_useragent"
      ],
      "metadata": {
        "colab": {
          "base_uri": "https://localhost:8080/"
        },
        "id": "030Y2AC-xTDH",
        "outputId": "8cf48c12-9ecb-4b78-8f10-efe5cf22898f"
      },
      "execution_count": 1,
      "outputs": [
        {
          "output_type": "stream",
          "name": "stdout",
          "text": [
            "Collecting fake_useragent\n",
            "  Downloading fake_useragent-1.1.3-py3-none-any.whl (50 kB)\n",
            "\u001b[?25l     \u001b[90m━━━━━━━━━━━━━━━━━━━━━━━━━━━━━━━━━━━━━━━━\u001b[0m \u001b[32m0.0/50.5 kB\u001b[0m \u001b[31m?\u001b[0m eta \u001b[36m-:--:--\u001b[0m\r\u001b[2K     \u001b[90m━━━━━━━━━━━━━━━━━━━━━━━━━━━━━━━━━━━━━━━━\u001b[0m \u001b[32m50.5/50.5 kB\u001b[0m \u001b[31m5.2 MB/s\u001b[0m eta \u001b[36m0:00:00\u001b[0m\n",
            "\u001b[?25hInstalling collected packages: fake_useragent\n",
            "Successfully installed fake_useragent-1.1.3\n"
          ]
        }
      ]
    },
    {
      "cell_type": "code",
      "source": [
        "### Start Scraping\n",
        "import csv\n",
        "import re\n",
        "import requests\n",
        "from fake_useragent import UserAgent\n",
        "import time\n",
        "\n",
        "business = \"Plumbers\"\n",
        "usa_states = [\n",
        "    'Alabama',\n",
        "    'Alaska',\n",
        "    'Arizona',\n",
        "    'Arkansas',\n",
        "    'California',\n",
        "    'Colorado',\n",
        "    'Connecticut',\n",
        "    'Delaware',\n",
        "    'Florida',\n",
        "    'Georgia',\n",
        "    'Hawaii',\n",
        "    'Idaho',\n",
        "    'Illinois',\n",
        "    'Indiana',\n",
        "    'Iowa',\n",
        "    'Kansas',\n",
        "    'Kentucky',\n",
        "    'Louisiana',\n",
        "    'Maine',\n",
        "    'Maryland',\n",
        "    'Massachusetts',\n",
        "    'Michigan',\n",
        "    'Minnesota',\n",
        "    'Mississippi',\n",
        "    'Missouri',\n",
        "    'Montana',\n",
        "    'Nebraska',\n",
        "    'Nevada',\n",
        "    'New Hampshire',\n",
        "    'New Jersey',\n",
        "    'New Mexico',\n",
        "    'New York',\n",
        "    'North Carolina',\n",
        "    'North Dakota',\n",
        "    'Ohio',\n",
        "    'Oklahoma',\n",
        "    'Oregon',\n",
        "    'Pennsylvania',\n",
        "    'Rhode Island',\n",
        "    'South Carolina',\n",
        "    'South Dakota',\n",
        "    'Tennessee',\n",
        "    'Texas',\n",
        "    'Utah',\n",
        "    'Vermont',\n",
        "    'Virginia',\n",
        "    'Washington',\n",
        "    'West Virginia',\n",
        "    'Wisconsin',\n",
        "    'Wyoming'\n",
        "]\n",
        "\n",
        "# Extracting E-Mail\n",
        "def extract_emails(text):\n",
        "    email_regex = r'\\b[A-Za-z0-9._%+-]+@[A-Za-z0-9.-]+\\.[A-Z|a-z]{2,}\\b'\n",
        "    return re.findall(email_regex, text)\n",
        "email_list = []\n",
        "for state in usa_states:\n",
        "    url= f\"https://www.google.com/search?q={business}+in+{state}+US+%22@gmail.com%22&num=100&gl=us\"\n",
        "    # Create a UserAgent object\n",
        "    user_agent = UserAgent()\n",
        "    # Generate a fake user agent string\n",
        "    fake_ua = user_agent.random\n",
        "    # Set headers with the fake user agent\n",
        "    headers = {'User-Agent': fake_ua}\n",
        "    response = requests.get(url, headers=headers)\n",
        "    url_email = extract_emails(response.text)\n",
        "    email_list.append(url_email)\n",
        "    time.sleep(300)\n",
        "\n",
        "#print(email_list)\n",
        "list_of_lists = email_list\n",
        "\n",
        "# Using nested list comprehension\n",
        "single_list = [item for sublist in list_of_lists for item in sublist]\n",
        "#print(len(single_list))\n",
        "#print(single_list)\n",
        "\n",
        "clean_list = []\n",
        "for item in single_list:\n",
        "    if \"%\" in item or item in clean_list or \"com.\" in item or \":\" in item or \"=\" in item or \"*\" in item or \"-\" in item or \"xxx\" in item:\n",
        "        pass\n",
        "    else :\n",
        "        clean_list.append(item)\n",
        "\n",
        "# Converting list to CSV\n",
        "def append_to_csv(file_name, variable):\n",
        "    with open(file_name, 'a', newline='') as csvfile:\n",
        "        writer = csv.writer(csvfile)\n",
        "        writer.writerow([variable])\n",
        "for item in clean_list:\n",
        "  csv_file = f'/content/drive/MyDrive/Email_List_{business}_in_USA.csv'\n",
        "  append_to_csv(csv_file, item)\n",
        "\n",
        "print(len(clean_list), \" Emails\")"
      ],
      "metadata": {
        "colab": {
          "base_uri": "https://localhost:8080/"
        },
        "id": "VR5jCeb_xXyw",
        "outputId": "b309eca8-95c0-4b9b-fe0f-8fc9c79c830e"
      },
      "execution_count": 7,
      "outputs": [
        {
          "output_type": "stream",
          "name": "stdout",
          "text": [
            "3784  Emails\n"
          ]
        }
      ]
    }
  ]
}