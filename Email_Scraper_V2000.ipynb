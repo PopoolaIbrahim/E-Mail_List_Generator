{
  "nbformat": 4,
  "nbformat_minor": 0,
  "metadata": {
    "colab": {
      "provenance": [],
      "authorship_tag": "ABX9TyMEj7kUptfo0llTLS000+mm",
      "include_colab_link": true
    },
    "kernelspec": {
      "name": "python3",
      "display_name": "Python 3"
    },
    "language_info": {
      "name": "python"
    }
  },
  "cells": [
    {
      "cell_type": "markdown",
      "metadata": {
        "id": "view-in-github",
        "colab_type": "text"
      },
      "source": [
        "<a href=\"https://colab.research.google.com/github/PopoolaIbrahim/E-Mail_List_Generator/blob/main/Email_Scraper_V2000.ipynb\" target=\"_parent\"><img src=\"https://colab.research.google.com/assets/colab-badge.svg\" alt=\"Open In Colab\"/></a>"
      ]
    },
    {
      "cell_type": "code",
      "source": [
        "### Install Requirements\n",
        "#!pip install google\n",
        "!pip install fake_useragent\n",
        "#!apt-get install telnet\n",
        "#!apt-get install dnsutils"
      ],
      "metadata": {
        "colab": {
          "base_uri": "https://localhost:8080/"
        },
        "id": "030Y2AC-xTDH",
        "outputId": "8cf48c12-9ecb-4b78-8f10-efe5cf22898f"
      },
      "execution_count": 1,
      "outputs": [
        {
          "output_type": "stream",
          "name": "stdout",
          "text": [
            "Collecting fake_useragent\n",
            "  Downloading fake_useragent-1.1.3-py3-none-any.whl (50 kB)\n",
            "\u001b[?25l     \u001b[90m━━━━━━━━━━━━━━━━━━━━━━━━━━━━━━━━━━━━━━━━\u001b[0m \u001b[32m0.0/50.5 kB\u001b[0m \u001b[31m?\u001b[0m eta \u001b[36m-:--:--\u001b[0m\r\u001b[2K     \u001b[90m━━━━━━━━━━━━━━━━━━━━━━━━━━━━━━━━━━━━━━━━\u001b[0m \u001b[32m50.5/50.5 kB\u001b[0m \u001b[31m5.2 MB/s\u001b[0m eta \u001b[36m0:00:00\u001b[0m\n",
            "\u001b[?25hInstalling collected packages: fake_useragent\n",
            "Successfully installed fake_useragent-1.1.3\n"
          ]
        }
      ]
    },
    {
      "cell_type": "code",
      "source": [
        "### Email Collection\n",
        "import csv\n",
        "import re\n",
        "import requests\n",
        "from fake_useragent import UserAgent\n",
        "import time\n",
        "\n",
        "usa_states = [\n",
        "    'Alabama',\n",
        "    'Alaska',\n",
        "    'Arizona',\n",
        "    'Arkansas',\n",
        "    'California',\n",
        "    'Colorado',\n",
        "    'Connecticut',\n",
        "    'Delaware',\n",
        "    'Florida',\n",
        "    'Georgia',\n",
        "    'Hawaii',\n",
        "    'Idaho',\n",
        "    'Illinois',\n",
        "    'Indiana',\n",
        "    'Iowa',\n",
        "    'Kansas',\n",
        "    'Kentucky',\n",
        "    'Louisiana',\n",
        "    'Maine',\n",
        "    'Maryland',\n",
        "    'Massachusetts',\n",
        "    'Michigan',\n",
        "    'Minnesota',\n",
        "    'Mississippi',\n",
        "    'Missouri',\n",
        "    'Montana',\n",
        "    'Nebraska',\n",
        "    'Nevada',\n",
        "    'New Hampshire',\n",
        "    'New Jersey',\n",
        "    'New Mexico',\n",
        "    'New York',\n",
        "    'North Carolina',\n",
        "    'North Dakota',\n",
        "    'Ohio',\n",
        "    'Oklahoma',\n",
        "    'Oregon',\n",
        "    'Pennsylvania',\n",
        "    'Rhode Island',\n",
        "    'South Carolina',\n",
        "    'South Dakota',\n",
        "    'Tennessee',\n",
        "    'Texas',\n",
        "    'Utah',\n",
        "    'Vermont',\n",
        "    'Virginia',\n",
        "    'Washington',\n",
        "    'West Virginia',\n",
        "    'Wisconsin',\n",
        "    'Wyoming'\n",
        "]\n",
        "\n",
        "\n",
        "\n",
        "# Extracting E-Mail\n",
        "def extract_emails(text):\n",
        "    email_regex = r'\\b[A-Za-z0-9._%+-]+@[A-Za-z0-9.-]+\\.[A-Z|a-z]{2,}\\b'\n",
        "    return re.findall(email_regex, text)\n",
        "email_list = []\n",
        "for state in usa_states[0:2]:\n",
        "    url= f\"https://www.google.com/search?q=plumbers+in+{state}+US+%22@gmail.com%22&num=100&gl=us\"\n",
        "    # Create a UserAgent object\n",
        "    user_agent = UserAgent()\n",
        "    # Generate a fake user agent string\n",
        "    fake_ua = user_agent.random\n",
        "    # Set headers with the fake user agent\n",
        "    headers = {'User-Agent': fake_ua}\n",
        "    response = requests.get(url, headers=headers)\n",
        "    url_email = extract_emails(response.text)\n",
        "    email_list.append(url_email)\n",
        "    time.sleep(300)\n",
        "\n",
        "#print(email_list)\n",
        "list_of_lists = email_list\n",
        "\n",
        "# Using nested list comprehension\n",
        "single_list = [item for sublist in list_of_lists for item in sublist]\n",
        "#print(len(single_list))\n",
        "#print(single_list)\n",
        "\n",
        "clean_list = []\n",
        "for item in single_list:\n",
        "    if \"%\" in item or item in clean_list or \"com.\" in item or \":\" in item or \"=\" in item or \"*\" in item :\n",
        "        pass\n",
        "    else :\n",
        "        clean_list.append(item)\n",
        "\n",
        "print(len(clean_list))\n",
        "# Converting list to CSV\n",
        "def append_to_csv(file_name, variable):\n",
        "    with open(file_name, 'a', newline='') as csvfile:\n",
        "        writer = csv.writer(csvfile)\n",
        "        writer.writerow([variable])\n",
        "for item in clean_list:\n",
        "  csv_file = 'Email_List_Plumbers_in_USA.csv'\n",
        "  append_to_csv(csv_file, item)"
      ],
      "metadata": {
        "colab": {
          "base_uri": "https://localhost:8080/"
        },
        "id": "VR5jCeb_xXyw",
        "outputId": "ec5d2e65-c8c8-4dbc-f348-6960b08feb9c"
      },
      "execution_count": 4,
      "outputs": [
        {
          "metadata": {
            "tags": null
          },
          "name": "stdout",
          "output_type": "stream",
          "text": [
            "182\n",
            "['northalabamaplumbingcompanyllc@gmail.com', 'ColePlbg@gmail.com', 'mrplumber4@gmail.com', 'alabamaplumbingcompany@gmail.com', 'keithhkdj@gmail.com', 'plumbxal@gmail.com', 'jacobsplumbingal@gmail.com', 'alplumbingpros@gmail.com', 'eliteplumbing.al@gmail.com', 'fastazservices@gmail.com', 'BrucesPlumbing366@gmail.com', 'jtchapmanplumbing@gmail.com', 'Johnhearnplbg@gmail.com', 'hanksplumbingrepair@gmail.com', 'jdbplumbinginc@gmail.com', 'rossplumbingco@gmail.com', 'teliarocketcity@gmail.com', 'tierce.service@gmail.com', 'SOUTHERNHPLUMBING@GMAIL.COM', 'alltecplumbing@gmail.com', 'ABDPlumbing1@gmail.com', 'imlayoffice@gmail.com', 'hooverplumbing@gmail.com', 'expressrooteral@gmail.com', '748drip@gmail.com', 'spankysdrain@gmail.com', 'wildservicesllc@gmail.com', 'theneighborhoodplumberinc@gmail.com', 'Btrained2@gmail.com', 'markboersma3@gmail.com', 'btplumbingsolutions@gmail.com', 'aapgmi2018@gmail.com', 'tross57191@gmail.com', 'suzabula@gmail.com', 'jason.flotechplumbing@gmail.com', 'flowmastersplumbingsolutions@gmail.com', 'plumberdan247@gmail.com', 'aroundtheclockplumbing@gmail.com', 'millerhumphreype@gmail.com', 'waynepickleplumbing@gmail.com', 'whatleybrothers@gmail.com', 'coreypguild@gmail.com', 'EssentialPlumbingBC@gmail.com', 'heatplumbcool@gmail.com', 'schittsplumbing@gmail.com', 'pciplumbingcorp@gmail.com', 'candmplumbingandgas@gmail.com', 'nickelsplumbing@gmail.com', 'candjplumbingelectric@gmail.com', 'theplumbingcrew2020@gmail.com', 'jwplumb16@gmail.com', 'nobleplumbers@gmail.com', 'mlynnpande@gmail.com', 'langesmn@gmail.com', 'justin.rotorooter@gmail.com', 'homescanalabama@gmail.com', 'Infinitysepticanddrain@gmail.com', 'championplumbing90@gmail.com', 'bud3281@gmail.com', 'bossongplumbing@gmail.com', 'Alabamaqualityplumbing@gmail.com', 'jeremypurvis777@gmail.com', 'scubastevebennett@gmail.com', 'HometownPlumbingTN@gmail.com', 'griffinsrrplumbing@gmail.com', 'jbreashears1@gmail.com', 'Shannon@mdhconstructionservices.com', 'mdhconstructioninc@gmail.com', 'dealsplumbing@gmail.com', 'arescueplumber@gmail.com', 'blair.minyard@gmail.com', 'bakwale@gmail.com', 'howardj@americanliberty.biz', 'nyplumbingrep@gmail.com', 'plumbingmdllc@gmail.com', 'nicole.stover704@gmail.com', 'thecodeacademykc@gmail.com', 'office.wgps@gmail.com', 'info@tuskegeealabama.gov', 'cityoftuskegeeinfo@gmail.com', 'thedesigngroupinc@gmail.com', 'cathyfrederick867@gmail.com', 'alahomepros@gmail.com', 'co@gmail.com', 'sscobo@gmail.com', 'Bill_Tomlin@purplehouseinstallation.com', 'KevinKillen62@gmail.com', 'afriendofmind@gmail.com', 'aquapropc@gmail.com', 'bkbplumbing@gmail.com', 'hbagcc22@gmail.com', 'bellforestdale@gmail.com', 'ddpearson82@gmail.com', 'Rhinehardt.jlr@gmail.com', 'allplumbing.steve@gmail.com', 'teetimesgregg@gmail.com', 'elitedrainandseptic@gmail.com', 'hancevillefuneralhome@gmail.com', 'ajwhelton@gmail.com', 'Stacy.phdak907@gmail.com', 'firstclassak@gmail.com', 'pleasantsplumbing@gmail.com', 'larryhtg@gmail.com', 'icystraitph@gmail.com', 'akclearwatermechanical@gmail.com', 'muotkamechanical@gmail.com', 'nwardalaska@gmail.com', 'dave.cksak@gmail.com', 'fulltiltmc@gmail.com', 'tenpointgary@gmail.com', 'neal.ndscompany@gmail.com', 'longspringsolar@gmail.com', 'Paintersperfection@gmail.com', 'runstromplumbingandheating@gmail.com', 'chris.friend.contractors@gmail.com', 'americanplumbing76@gmail.com', 'currantridge@gmail.com', 'ordertrustworthy@gmail.com', 'firesafe.chimney.service@gmail.com', 'mcleanmechanical@gmail.com', 'jandjcleaning4u@gmail.com', 'rockxdude@gmail.com', 'agcplans@gmail.com', 'backfloweducationgroup@gmail.com', 'egpartlow@gmail.com', 'thefortyninth@gmail.com', 'bcbbinfo@gmail.com', 'Gdc.advancedwatersystems@gmail.com', '360plumbingAK@gmail.com', 'MorrisMarineLLC@gmail.com', 'jasontauriainen@gmail.com', 'markwavering@gmail.com', 'pollardalaska@gmail.com', 'alaskahomedetectives@gmail.com', 'michaeljmayo45@gmail.com', 'FDA@gmail.com', 'jim.rom.ak@gmail.com', '920-691-6309mrplumber.fort@gmail.com', 'jondufendach@gmail.com', 'aksewer@gmail.com', 'bsalbert@hotmail.com', 'kcdplumbinginc@gmail.com', 'bertanillc@gmail.com', 'alaskapaint@gmail.com', 'dgparkes@gmail.com', 'alaskaknottypine@gmail.com', 'themushingcoop@gmail.com', 'jimswearingin@gmail.com', 'lbridgmanjr@gmail.com', 'sitkachamber.membership@gmail.com', 'cdshanahans@gmail.com', 'plumbingce@gmail.com', 'wolfpackmechanicalak@gmail.com', 'NSEalaska@gmail.com', 'plumbingbyspellmaninc@gmail.com', 'nzhansen32@gmail.com', 'akplatinumInspectionservice@gmail.com', 'jacksonplumbingerie@gmail.com', 'info.pipespy@gmail.com', 'discoverplumbingandrooter@gmail.com', 'kables1221@gmail.com', 'alaskacampgrounds@gmail.com', 'President@gmail.com', 'cyeager@wcchd.com', 'coxmj12@gmail.com', 'sarah.puls@co.lane.or.us', 'razorbladeplumbing@gmail.com', 'beesplumbingandheating@gmail.com', 'theclogdawg@gmail.com', 'joel.wirantsales@gmail.com', 'searingsbend@gmail.com', 'michaelhauke1@gmail.com', 'alaskaspe@gmail.com', 'westoakconstructionllc@gmail.com', 'david.t.velasquez@gmail.com', 'acquaplumbingllc@gmail.com', 'miketheplumberman@gmail.com', 'Dale.burkedds@gmail.com', 'emeraldsprinklers@gmail.com', '1leslawtey221@gmail.com', 'nancy.ets@gmail.com', 'crowcreekdesignsak@gmail.com']\n"
          ]
        }
      ]
    },
    {
      "cell_type": "code",
      "source": [
        "#### Email Cleaning\n",
        "import csv\n",
        "import pandas as pd\n",
        "# Load the Excel file\n",
        "df = pd.read_excel('Marketing Manager List.xlsx')\n",
        "# Extract the first column into a list\n",
        "single_list = df.iloc[:, 0].tolist()\n",
        "clean_list_period = []\n",
        "added_emails = set()\n",
        "for item in single_list:\n",
        "    if \"@gmail\" in item or \"@yahoo\" in item:\n",
        "        email = item.split(\"@\")[0] + item.split(\"@\")[1].split(\".\")[0]  # Extract the username part of the email\n",
        "        if email not in added_emails:\n",
        "            clean_list_period.append(item)\n",
        "            added_emails.add(email)\n",
        "# Remove peroid from list\n",
        "def remove_periods(strings):\n",
        "    updated_strings = []\n",
        "    for string in strings:\n",
        "        updated_string = string.replace('.', '')\n",
        "        updated_strings.append(updated_string)\n",
        "    return updated_strings\n",
        "clean_list = remove_periods(clean_list_period)\n",
        "# Saving to CSV\n",
        "def append_to_csv(file_name, variable):\n",
        "    with open(file_name, 'a', newline='') as csvfile:\n",
        "        writer = csv.writer(csvfile)\n",
        "        writer.writerow([variable])\n",
        "for item in clean_list:\n",
        "  csv_file = 'email_dataset.csv'\n",
        "  append_to_csv(csv_file, item)"
      ],
      "metadata": {
        "id": "JbvVcD4nmMW8"
      },
      "execution_count": null,
      "outputs": []
    },
    {
      "cell_type": "code",
      "source": [
        "### Email Verification\n",
        "#!dig gmail.com MX\n",
        "import subprocess\n",
        "\n",
        "def check_gmail_existence(email):\n",
        "    try:\n",
        "        # Establish a telnet connection to Gmail SMTP server\n",
        "        telnet = subprocess.Popen([\"telnet\", \"gmail-smtp-in.l.google.com\", \"25\"], stdin=subprocess.PIPE, stdout=subprocess.PIPE)\n",
        "\n",
        "        # Read the initial response from the server\n",
        "        output = telnet.stdout.read().decode()\n",
        "\n",
        "        if \"220\" not in output:\n",
        "            return False\n",
        "\n",
        "        # Send a VRFY command with the email address\n",
        "        telnet.stdin.write(f\"VRFY {email}\\n\".encode())\n",
        "        telnet.stdin.flush()\n",
        "\n",
        "        # Read the response from the server\n",
        "        response = telnet.stdout.read().decode()\n",
        "\n",
        "        # Check if the response indicates that the email address exists\n",
        "        if \"250\" in response:\n",
        "            return True\n",
        "        else:\n",
        "            return False\n",
        "    except Exception as e:\n",
        "        print(\"Error:\", str(e))\n",
        "        return False\n",
        "\n",
        "# Example usage\n",
        "email_address = \"popoolaibrahim.t@gmail.com\"\n",
        "exists = check_gmail_existence(email_address)\n",
        "if exists:\n",
        "    print(f\"The Gmail address '{email_address}' exists.\")\n",
        "else:\n",
        "    print(f\"The Gmail address '{email_address}' does not exist.\")\n"
      ],
      "metadata": {
        "colab": {
          "base_uri": "https://localhost:8080/"
        },
        "id": "S-IYDWN4AIen",
        "outputId": "e8b2c968-40d9-429c-e065-867e9b320f17"
      },
      "execution_count": null,
      "outputs": [
        {
          "output_type": "stream",
          "name": "stdout",
          "text": [
            "Error: [Errno 32] Broken pipe\n",
            "The Gmail address 'popoolaibrahim.t@gmail.com' does not exist.\n"
          ]
        }
      ]
    },
    {
      "cell_type": "code",
      "source": [
        "### Email Broadcast\n",
        "\n",
        "import smtplib\n",
        "from email.mime.text import MIMEText\n",
        "from email.mime.multipart import MIMEMultipart\n",
        "\n",
        "def send_email(sender_email, sender_password, receiver_email, subject, message):\n",
        "    # Create a multipart message container\n",
        "    msg = MIMEMultipart()\n",
        "    msg['From'] = sender_email\n",
        "    msg['To'] = receiver_email\n",
        "    msg['Subject'] = subject\n",
        "\n",
        "    # Attach the message to the container\n",
        "    msg.attach(MIMEText(message, 'plain'))\n",
        "\n",
        "    try:\n",
        "        # Create an SMTP session\n",
        "        server = smtplib.SMTP('smtp.gmail.com', 587)\n",
        "        server.starttls()\n",
        "        server.login(sender_email, sender_password)\n",
        "\n",
        "        # Send the email\n",
        "        server.sendmail(sender_email, receiver_email, msg.as_string())\n",
        "        print(\"Email sent successfully!\")\n",
        "    except smtplib.SMTPException as e:\n",
        "        print(\"Error sending email:\", str(e))\n",
        "    finally:\n",
        "        # Close the SMTP session\n",
        "        server.quit()\n",
        "\n",
        "# Example usage\n",
        "sender_email = \"your_email@gmail.com\"\n",
        "sender_password = \"your_password\"\n",
        "receiver_email = \"recipient_email@example.com\"\n",
        "subject = \"Test Email\"\n",
        "message = \"This is a test email sent from Python.\"\n",
        "\n",
        "send_email(sender_email, sender_password, receiver_email, subject, message)\n",
        "\n"
      ],
      "metadata": {
        "id": "EInxsx5dP3u_"
      },
      "execution_count": null,
      "outputs": []
    }
  ]
}